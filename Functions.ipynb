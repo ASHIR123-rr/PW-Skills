{
 "cells": [
  {
   "cell_type": "code",
   "execution_count": 1,
   "id": "7570162c",
   "metadata": {},
   "outputs": [
    {
     "data": {
      "text/plain": [
       "[1, 3, 5, 7, 9, 11, 13, 15, 17, 19, 21, 23]"
      ]
     },
     "execution_count": 1,
     "metadata": {},
     "output_type": "execute_result"
    }
   ],
   "source": [
    "# Q1. Which keyword is used to create a function? Create a function to return a list of odd numbers in the\n",
    "# range of 1 to 25.\n",
    "\n",
    "# def keyword is used to create a function with function name \n",
    "# Syntax:--\n",
    "# def func_name():\n",
    "#   statement\n",
    "#   return statement\n",
    "\n",
    "def odd_n():\n",
    "    li = []\n",
    "    for i in range(1,25):\n",
    "        if i % 2 != 0:\n",
    "            li.append(i)\n",
    "        \n",
    "    return li\n",
    "\n",
    "odd_n()\n",
    "\n"
   ]
  },
  {
   "cell_type": "code",
   "execution_count": 2,
   "id": "1b50ee8c",
   "metadata": {},
   "outputs": [
    {
     "name": "stdout",
     "output_type": "stream",
     "text": [
      "a: 1\n",
      "b: ashir\n"
     ]
    }
   ],
   "source": [
    "# Q2. Why *args and **kwargs is used in some functions? Create a function each for *args and **kwargs to\n",
    "# demonstrate their use.\n",
    "\n",
    "#The *args and **kwargs syntax in Python is used to handle a variable number of arguments in functions.\n",
    "\n",
    "#The *args parameter allows a function to accept any number of positional arguments. \n",
    "#It collects these arguments into a tuple, which can be iterated over or accessed individually within the function.\n",
    "\n",
    "def calculate_sum(*args):\n",
    "    total = 0\n",
    "    for num in args:\n",
    "        total += num\n",
    "    return total\n",
    "\n",
    "calculate_sum(1,2,3)\n",
    "\n",
    "#On the other hand, **kwargs stands for \"keyword arguments\" and allows a function to accept any number of keyword arguments in the form of key-value pairs. \n",
    "# These arguments are collected into a dictionary within the function.\n",
    "\n",
    "def print_kwargs(**kwargs):\n",
    "    for key, value in kwargs.items():\n",
    "        print(f\"{key}: {value}\")\n",
    "\n",
    "print_kwargs(a=1,b=\"ashir\")\n",
    "\n",
    "\n"
   ]
  },
  {
   "cell_type": "code",
   "execution_count": 3,
   "id": "36243483",
   "metadata": {},
   "outputs": [
    {
     "name": "stdout",
     "output_type": "stream",
     "text": [
      "In Python, an iterator is an object that allows us to traverse a collection of elements,\n",
      " such as a list, tuple, or dictionary. It provides a way to access elements sequentially without \n",
      "the need to know the underlying structure of the collection.\n",
      "To initialize an iterator object, you can use the iter() function. This function takes an iterable object as an argument and returns an iterator object.\n",
      "To iterate over the elements of the iterator, you can use the next() function. It retrieves the next element from the iterator. By calling next() repeatedly, you can iterate through all the elements of the iterator.\n",
      "2\n",
      "4\n",
      "6\n",
      "8\n",
      "10\n"
     ]
    }
   ],
   "source": [
    "#Q3. What is an iterator in python? Name the method used to initialise the iterator object and the method\n",
    "#used for iteration. Use these methods to print the first five elements of the given list [2, 4, 6, 8, 10, 12, 14, 16,\n",
    "#18, 20].\n",
    "\n",
    "l=[2,4,6,8,10, 12, 14, 16,18, 20]\n",
    "print(\"In Python, an iterator is an object that allows us to traverse a collection of elements,\\n such as a list, tuple, or dictionary. It provides a way to access elements sequentially without \\nthe need to know the underlying structure of the collection.\")\n",
    "print(\"To initialize an iterator object, you can use the iter() function. This function takes an iterable object as an argument and returns an iterator object.\")\n",
    "print(\"To iterate over the elements of the iterator, you can use the next() function. It retrieves the next element from the iterator. By calling next() repeatedly, you can iterate through all the elements of the iterator.\")\n",
    "\n",
    "my_list = [2, 4, 6, 8, 10, 12, 14, 16, 18, 20]\n",
    "my_iterator = iter(my_list)\n",
    "\n",
    "for _ in range(5):\n",
    "    element = next(my_iterator)\n",
    "    print(element)\n"
   ]
  },
  {
   "cell_type": "code",
   "execution_count": 4,
   "id": "f135d1f3",
   "metadata": {},
   "outputs": [
    {
     "name": "stdout",
     "output_type": "stream",
     "text": [
      "In Python, a generator function is a special type of function that generates a sequence of values using the yield keyword.\n",
      "he yield keyword is used within a generator function to indicate the value to be generated and returned to the caller.\n",
      "0\n",
      "1\n",
      "1\n",
      "2\n",
      "3\n",
      "5\n",
      "8\n",
      "13\n",
      "21\n",
      "34\n"
     ]
    }
   ],
   "source": [
    "\n",
    "#Q4. What is a generator function in python? Why yield keyword is used? Give an example of a generator\n",
    "#    function.\n",
    "\n",
    "print(\"In Python, a generator function is a special type of function that generates a sequence of values using the yield keyword.\")\n",
    "print(\"he yield keyword is used within a generator function to indicate the value to be generated and returned to the caller.\")\n",
    "\n",
    "\n",
    "def fibo_generator():\n",
    "    a, b = 0, 1\n",
    "    while True:\n",
    "        yield a\n",
    "        a, b = b, a + b\n",
    "\n",
    "# Create a generator object\n",
    "fib_gen = fibo_generator()\n",
    "\n",
    "# Generate and print the first 10 Fibonacci numbers\n",
    "for _ in range(10):\n",
    "    fibonacci_number = next(fib_gen)\n",
    "    print(fibonacci_number)\n",
    "\n"
   ]
  },
  {
   "cell_type": "code",
   "execution_count": 5,
   "id": "fd3a075f",
   "metadata": {},
   "outputs": [
    {
     "name": "stdout",
     "output_type": "stream",
     "text": [
      "2\n",
      "3\n",
      "5\n",
      "7\n",
      "11\n",
      "13\n",
      "17\n",
      "19\n",
      "23\n",
      "29\n",
      "31\n",
      "37\n",
      "41\n",
      "43\n",
      "47\n",
      "53\n",
      "59\n",
      "61\n",
      "67\n",
      "71\n"
     ]
    }
   ],
   "source": [
    "#Q5. Create a generator function for prime numbers less than 1000. Use the next() method to print the\n",
    "#    first 20 prime numbers.\n",
    "\n",
    "def prime_generator():\n",
    "    primes = []\n",
    "    num = 2\n",
    "    while True:\n",
    "        is_prime = True\n",
    "        for prime in primes:\n",
    "            if num % prime == 0:\n",
    "                is_prime = False\n",
    "                break\n",
    "            if prime * prime > num:\n",
    "                break\n",
    "        if is_prime:\n",
    "            primes.append(num)\n",
    "            yield num\n",
    "        num += 1\n",
    "\n",
    "prime_gen = prime_generator()\n",
    "\n",
    "for _ in range(20):\n",
    "    prime_number = next(prime_gen)\n",
    "    print(prime_number)\n"
   ]
  }
 ],
 "metadata": {
  "kernelspec": {
   "display_name": "Python 3",
   "language": "python",
   "name": "python3"
  },
  "language_info": {
   "codemirror_mode": {
    "name": "ipython",
    "version": 3
   },
   "file_extension": ".py",
   "mimetype": "text/x-python",
   "name": "python",
   "nbconvert_exporter": "python",
   "pygments_lexer": "ipython3",
   "version": "3.8.8"
  }
 },
 "nbformat": 4,
 "nbformat_minor": 5
}
